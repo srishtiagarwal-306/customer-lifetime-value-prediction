{
 "cells": [
  {
   "cell_type": "code",
   "execution_count": 2,
   "id": "0dbd9c65-51ee-4dbd-9d51-57aad813ab66",
   "metadata": {},
   "outputs": [
    {
     "name": "stdout",
     "output_type": "stream",
     "text": [
      "Collecting lifetimes\n",
      "  Downloading Lifetimes-0.11.3-py3-none-any.whl.metadata (4.8 kB)\n",
      "Requirement already satisfied: numpy>=1.10.0 in /Library/Frameworks/Python.framework/Versions/3.13/lib/python3.13/site-packages (from lifetimes) (2.2.5)\n",
      "Requirement already satisfied: scipy>=1.0.0 in /Library/Frameworks/Python.framework/Versions/3.13/lib/python3.13/site-packages (from lifetimes) (1.15.3)\n",
      "Requirement already satisfied: pandas>=0.24.0 in /Library/Frameworks/Python.framework/Versions/3.13/lib/python3.13/site-packages (from lifetimes) (2.2.3)\n",
      "Collecting autograd>=1.2.0 (from lifetimes)\n",
      "  Downloading autograd-1.8.0-py3-none-any.whl.metadata (7.5 kB)\n",
      "Collecting dill>=0.2.6 (from lifetimes)\n",
      "  Downloading dill-0.4.0-py3-none-any.whl.metadata (10 kB)\n",
      "Requirement already satisfied: python-dateutil>=2.8.2 in /Library/Frameworks/Python.framework/Versions/3.13/lib/python3.13/site-packages (from pandas>=0.24.0->lifetimes) (2.9.0.post0)\n",
      "Requirement already satisfied: pytz>=2020.1 in /Library/Frameworks/Python.framework/Versions/3.13/lib/python3.13/site-packages (from pandas>=0.24.0->lifetimes) (2025.2)\n",
      "Requirement already satisfied: tzdata>=2022.7 in /Library/Frameworks/Python.framework/Versions/3.13/lib/python3.13/site-packages (from pandas>=0.24.0->lifetimes) (2025.2)\n",
      "Requirement already satisfied: six>=1.5 in /Library/Frameworks/Python.framework/Versions/3.13/lib/python3.13/site-packages (from python-dateutil>=2.8.2->pandas>=0.24.0->lifetimes) (1.17.0)\n",
      "Downloading Lifetimes-0.11.3-py3-none-any.whl (584 kB)\n",
      "\u001b[2K   \u001b[90m━━━━━━━━━━━━━━━━━━━━━━━━━━━━━━━━━━━━━━━━\u001b[0m \u001b[32m584.2/584.2 kB\u001b[0m \u001b[31m18.6 MB/s\u001b[0m eta \u001b[36m0:00:00\u001b[0m\n",
      "\u001b[?25hDownloading autograd-1.8.0-py3-none-any.whl (51 kB)\n",
      "Downloading dill-0.4.0-py3-none-any.whl (119 kB)\n",
      "Installing collected packages: dill, autograd, lifetimes\n",
      "\u001b[2K   \u001b[90m━━━━━━━━━━━━━━━━━━━━━━━━━━━━━━━━━━━━━━━━\u001b[0m \u001b[32m3/3\u001b[0m [lifetimes]\n",
      "\u001b[1A\u001b[2KSuccessfully installed autograd-1.8.0 dill-0.4.0 lifetimes-0.11.3\n"
     ]
    }
   ],
   "source": [
    "!pip install lifetimes"
   ]
  },
  {
   "cell_type": "code",
   "execution_count": 44,
   "id": "f493935e-ae21-44ca-8db9-2dd697e0915c",
   "metadata": {},
   "outputs": [],
   "source": [
    "import pandas as pd\n",
    "import numpy as np\n",
    "import datetime as dt\n",
    "import matplotlib.pyplot as plt\n",
    "import seaborn as sns\n",
    "\n",
    "from lifetimes import BetaGeoFitter\n",
    "from lifetimes import GammaGammaFitter\n",
    "from lifetimes.utils import summary_data_from_transaction_data\n",
    "from yellowbrick.cluster import KElbowVisualizer\n",
    "from sklearn.cluster import KMeans\n",
    "import matplotlib.pyplot as plt\n"
   ]
  },
  {
   "cell_type": "code",
   "execution_count": 10,
   "id": "dbd74abc-39ce-4ba2-97f0-a42e14d07d7f",
   "metadata": {},
   "outputs": [
    {
     "name": "stdout",
     "output_type": "stream",
     "text": [
      "Collecting openpyxl\n",
      "  Downloading openpyxl-3.1.5-py2.py3-none-any.whl.metadata (2.5 kB)\n",
      "Collecting et-xmlfile (from openpyxl)\n",
      "  Downloading et_xmlfile-2.0.0-py3-none-any.whl.metadata (2.7 kB)\n",
      "Downloading openpyxl-3.1.5-py2.py3-none-any.whl (250 kB)\n",
      "Downloading et_xmlfile-2.0.0-py3-none-any.whl (18 kB)\n",
      "Installing collected packages: et-xmlfile, openpyxl\n",
      "\u001b[2K   \u001b[90m━━━━━━━━━━━━━━━━━━━━━━━━━━━━━━━━━━━━━━━━\u001b[0m \u001b[32m2/2\u001b[0m [openpyxl]\n",
      "\u001b[1A\u001b[2KSuccessfully installed et-xmlfile-2.0.0 openpyxl-3.1.5\n",
      "Note: you may need to restart the kernel to use updated packages.\n"
     ]
    }
   ],
   "source": [
    "pip install openpyxl\n"
   ]
  },
  {
   "cell_type": "code",
   "execution_count": 22,
   "id": "ff43cdad-6313-480e-ac62-c43e78d9a838",
   "metadata": {},
   "outputs": [
    {
     "name": "stdout",
     "output_type": "stream",
     "text": [
      "--------------------------------------------------\n",
      " Data imported successfully!!\n"
     ]
    },
    {
     "data": {
      "text/html": [
       "<style type=\"text/css\">\n",
       "#T_61754_row0_col0, #T_61754_row0_col1, #T_61754_row0_col2, #T_61754_row0_col3, #T_61754_row0_col4, #T_61754_row0_col5, #T_61754_row0_col6, #T_61754_row0_col7, #T_61754_row1_col0, #T_61754_row1_col1, #T_61754_row1_col2, #T_61754_row1_col3, #T_61754_row1_col4, #T_61754_row1_col5, #T_61754_row1_col6, #T_61754_row1_col7, #T_61754_row2_col0, #T_61754_row2_col1, #T_61754_row2_col2, #T_61754_row2_col3, #T_61754_row2_col4, #T_61754_row2_col5, #T_61754_row2_col6, #T_61754_row2_col7 {\n",
       "  background-color: #cd5c5c;\n",
       "  color: black;\n",
       "  border-color: black;\n",
       "}\n",
       "</style>\n",
       "<table id=\"T_61754\">\n",
       "  <thead>\n",
       "    <tr>\n",
       "      <th class=\"blank level0\" >&nbsp;</th>\n",
       "      <th id=\"T_61754_level0_col0\" class=\"col_heading level0 col0\" >Invoice</th>\n",
       "      <th id=\"T_61754_level0_col1\" class=\"col_heading level0 col1\" >StockCode</th>\n",
       "      <th id=\"T_61754_level0_col2\" class=\"col_heading level0 col2\" >Description</th>\n",
       "      <th id=\"T_61754_level0_col3\" class=\"col_heading level0 col3\" >Quantity</th>\n",
       "      <th id=\"T_61754_level0_col4\" class=\"col_heading level0 col4\" >InvoiceDate</th>\n",
       "      <th id=\"T_61754_level0_col5\" class=\"col_heading level0 col5\" >Price</th>\n",
       "      <th id=\"T_61754_level0_col6\" class=\"col_heading level0 col6\" >Customer ID</th>\n",
       "      <th id=\"T_61754_level0_col7\" class=\"col_heading level0 col7\" >Country</th>\n",
       "    </tr>\n",
       "  </thead>\n",
       "  <tbody>\n",
       "    <tr>\n",
       "      <th id=\"T_61754_level0_row0\" class=\"row_heading level0 row0\" >0</th>\n",
       "      <td id=\"T_61754_row0_col0\" class=\"data row0 col0\" >489434</td>\n",
       "      <td id=\"T_61754_row0_col1\" class=\"data row0 col1\" >85048</td>\n",
       "      <td id=\"T_61754_row0_col2\" class=\"data row0 col2\" >15CM CHRISTMAS GLASS BALL 20 LIGHTS</td>\n",
       "      <td id=\"T_61754_row0_col3\" class=\"data row0 col3\" >12</td>\n",
       "      <td id=\"T_61754_row0_col4\" class=\"data row0 col4\" >2009-12-01 07:45:00</td>\n",
       "      <td id=\"T_61754_row0_col5\" class=\"data row0 col5\" >6.950000</td>\n",
       "      <td id=\"T_61754_row0_col6\" class=\"data row0 col6\" >13085.000000</td>\n",
       "      <td id=\"T_61754_row0_col7\" class=\"data row0 col7\" >United Kingdom</td>\n",
       "    </tr>\n",
       "    <tr>\n",
       "      <th id=\"T_61754_level0_row1\" class=\"row_heading level0 row1\" >1</th>\n",
       "      <td id=\"T_61754_row1_col0\" class=\"data row1 col0\" >489434</td>\n",
       "      <td id=\"T_61754_row1_col1\" class=\"data row1 col1\" >79323P</td>\n",
       "      <td id=\"T_61754_row1_col2\" class=\"data row1 col2\" >PINK CHERRY LIGHTS</td>\n",
       "      <td id=\"T_61754_row1_col3\" class=\"data row1 col3\" >12</td>\n",
       "      <td id=\"T_61754_row1_col4\" class=\"data row1 col4\" >2009-12-01 07:45:00</td>\n",
       "      <td id=\"T_61754_row1_col5\" class=\"data row1 col5\" >6.750000</td>\n",
       "      <td id=\"T_61754_row1_col6\" class=\"data row1 col6\" >13085.000000</td>\n",
       "      <td id=\"T_61754_row1_col7\" class=\"data row1 col7\" >United Kingdom</td>\n",
       "    </tr>\n",
       "    <tr>\n",
       "      <th id=\"T_61754_level0_row2\" class=\"row_heading level0 row2\" >2</th>\n",
       "      <td id=\"T_61754_row2_col0\" class=\"data row2 col0\" >489434</td>\n",
       "      <td id=\"T_61754_row2_col1\" class=\"data row2 col1\" >79323W</td>\n",
       "      <td id=\"T_61754_row2_col2\" class=\"data row2 col2\" > WHITE CHERRY LIGHTS</td>\n",
       "      <td id=\"T_61754_row2_col3\" class=\"data row2 col3\" >12</td>\n",
       "      <td id=\"T_61754_row2_col4\" class=\"data row2 col4\" >2009-12-01 07:45:00</td>\n",
       "      <td id=\"T_61754_row2_col5\" class=\"data row2 col5\" >6.750000</td>\n",
       "      <td id=\"T_61754_row2_col6\" class=\"data row2 col6\" >13085.000000</td>\n",
       "      <td id=\"T_61754_row2_col7\" class=\"data row2 col7\" >United Kingdom</td>\n",
       "    </tr>\n",
       "  </tbody>\n",
       "</table>\n"
      ],
      "text/plain": [
       "<pandas.io.formats.style.Styler at 0x16a106e40>"
      ]
     },
     "execution_count": 22,
     "metadata": {},
     "output_type": "execute_result"
    }
   ],
   "source": [
    "\n",
    "data = pd.read_excel(r'/Users/srishtiagarwal/Desktop/customer/online_retail_II.xlsx')\n",
    "print(\"-\" * 50)\n",
    "print(\" Data imported successfully!!\")\n",
    "\n",
    "# Styled display of top 3 rows\n",
    "data.head(3).style.set_properties(\n",
    "    **{\"background-color\": \"#cd5c5c\", \"color\": \"black\", \"border-color\": \"black\"}\n",
    ")\n"
   ]
  },
  {
   "cell_type": "code",
   "execution_count": 23,
   "id": "66cae1ad-5f85-46d0-a4dc-841bec1cb5df",
   "metadata": {},
   "outputs": [
    {
     "name": "stdout",
     "output_type": "stream",
     "text": [
      "------------------------------------------------------ SHAPE OF DATASET -----------------------------------------------------\n",
      "Rows:525461\n",
      "Columns:8\n",
      "------------------------------------------------------------ HEAD -----------------------------------------------------------\n",
      "  Invoice StockCode                          Description  Quantity  \\\n",
      "0  489434     85048  15CM CHRISTMAS GLASS BALL 20 LIGHTS        12   \n",
      "1  489434    79323P                   PINK CHERRY LIGHTS        12   \n",
      "2  489434    79323W                  WHITE CHERRY LIGHTS        12   \n",
      "3  489434     22041         RECORD FRAME 7\" SINGLE SIZE         48   \n",
      "4  489434     21232       STRAWBERRY CERAMIC TRINKET BOX        24   \n",
      "\n",
      "          InvoiceDate  Price  Customer ID         Country  \n",
      "0 2009-12-01 07:45:00   6.95      13085.0  United Kingdom  \n",
      "1 2009-12-01 07:45:00   6.75      13085.0  United Kingdom  \n",
      "2 2009-12-01 07:45:00   6.75      13085.0  United Kingdom  \n",
      "3 2009-12-01 07:45:00   2.10      13085.0  United Kingdom  \n",
      "4 2009-12-01 07:45:00   1.25      13085.0  United Kingdom  \n",
      "----------------------------------------------------------DATA TYPES---------------------------------------------------------\n",
      "object            4\n",
      "float64           2\n",
      "int64             1\n",
      "datetime64[ns]    1\n",
      "Name: count, dtype: int64\n",
      "------------------------------------------------------- MISSING VALUES ------------------------------------------------------\n",
      "Customer ID    107927\n",
      "Description      2928\n",
      "dtype: int64\n",
      "----------------------------------------------------- DUPLICATED VALUES -----------------------------------------------------\n",
      "6865\n",
      "----------------------------------------------------- STATISTICS OF DATA ----------------------------------------------------\n",
      "         Invoice StockCode                         Description       Quantity  \\\n",
      "count   525461.0    525461                              522533  525461.000000   \n",
      "unique   28816.0      4632                                4681            NaN   \n",
      "top     537434.0    85123A  WHITE HANGING HEART T-LIGHT HOLDER            NaN   \n",
      "freq       675.0      3516                                3549            NaN   \n",
      "mean         NaN       NaN                                 NaN      10.337667   \n",
      "min          NaN       NaN                                 NaN   -9600.000000   \n",
      "25%          NaN       NaN                                 NaN       1.000000   \n",
      "50%          NaN       NaN                                 NaN       3.000000   \n",
      "75%          NaN       NaN                                 NaN      10.000000   \n",
      "max          NaN       NaN                                 NaN   19152.000000   \n",
      "std          NaN       NaN                                 NaN     107.424110   \n",
      "\n",
      "                          InvoiceDate          Price    Customer ID  \\\n",
      "count                          525461  525461.000000  417534.000000   \n",
      "unique                            NaN            NaN            NaN   \n",
      "top                               NaN            NaN            NaN   \n",
      "freq                              NaN            NaN            NaN   \n",
      "mean    2010-06-28 11:37:36.845017856       4.688834   15360.645478   \n",
      "min               2009-12-01 07:45:00  -53594.360000   12346.000000   \n",
      "25%               2010-03-21 12:20:00       1.250000   13983.000000   \n",
      "50%               2010-07-06 09:51:00       2.100000   15311.000000   \n",
      "75%               2010-10-15 12:45:00       4.210000   16799.000000   \n",
      "max               2010-12-09 20:01:00   25111.090000   18287.000000   \n",
      "std                               NaN     146.126914    1680.811316   \n",
      "\n",
      "               Country  \n",
      "count           525461  \n",
      "unique              40  \n",
      "top     United Kingdom  \n",
      "freq            485852  \n",
      "mean               NaN  \n",
      "min                NaN  \n",
      "25%                NaN  \n",
      "50%                NaN  \n",
      "75%                NaN  \n",
      "max                NaN  \n",
      "std                NaN  \n",
      "----------------------------------------------------------DATA INFO----------------------------------------------------------\n",
      "<class 'pandas.core.frame.DataFrame'>\n",
      "RangeIndex: 525461 entries, 0 to 525460\n",
      "Data columns (total 8 columns):\n",
      " #   Column       Non-Null Count   Dtype         \n",
      "---  ------       --------------   -----         \n",
      " 0   Invoice      525461 non-null  object        \n",
      " 1   StockCode    525461 non-null  object        \n",
      " 2   Description  522533 non-null  object        \n",
      " 3   Quantity     525461 non-null  int64         \n",
      " 4   InvoiceDate  525461 non-null  datetime64[ns]\n",
      " 5   Price        525461 non-null  float64       \n",
      " 6   Customer ID  417534 non-null  float64       \n",
      " 7   Country      525461 non-null  object        \n",
      "dtypes: datetime64[ns](1), float64(2), int64(1), object(4)\n",
      "memory usage: 32.1+ MB\n",
      "None\n"
     ]
    }
   ],
   "source": [
    "pd.set_option('display.max_columns', None) \n",
    "def data_overview(df, head=5):\n",
    "    print(\" SHAPE OF DATASET \".center(125,'-'))\n",
    "    print('Rows:{}'.format(df.shape[0]))\n",
    "    print('Columns:{}'.format(df.shape[1]))\n",
    "    print(\" HEAD \".center(125,'-'))\n",
    "    print(df.head(head))\n",
    "    print(\"DATA TYPES\".center(125,'-'))\n",
    "    print(data.dtypes.value_counts())\n",
    "    print(\" MISSING VALUES \".center(125,'-'))\n",
    "    print(df.isnull().sum()[df.isnull().sum()>0].sort_values(ascending = False))\n",
    "    print(\" DUPLICATED VALUES \".center(125,'-'))\n",
    "    print(df.duplicated().sum())\n",
    "    print(\" STATISTICS OF DATA \".center(125,'-'))\n",
    "    print(df.describe(include=\"all\"))\n",
    "    print(\"DATA INFO\".center(125,'-'))\n",
    "    print(df.info())\n",
    "    \n",
    "    \n",
    "data_overview(data)"
   ]
  },
  {
   "cell_type": "code",
   "execution_count": 24,
   "id": "1c95ec72-09af-44b3-8d90-1c71dda5a2be",
   "metadata": {},
   "outputs": [
    {
     "name": "stdout",
     "output_type": "stream",
     "text": [
      "Shape of data before removing NaN's CustomerID (525461, 8)\n",
      "Shape of data after removing NaN's CustomerID (417534, 8)\n"
     ]
    }
   ],
   "source": [
    "#  Removing NaN's in Customer ID\n",
    "print(\"Shape of data before removing NaN's CustomerID\",data.shape)\n",
    "data.dropna(subset=\"Customer ID\",axis=0,inplace=True)\n",
    "print(\"Shape of data after removing NaN's CustomerID\",data.shape)"
   ]
  },
  {
   "cell_type": "code",
   "execution_count": 25,
   "id": "e337ec86-a6c7-4d9c-9ae2-04c76f116c9a",
   "metadata": {},
   "outputs": [
    {
     "name": "stdout",
     "output_type": "stream",
     "text": [
      "Missing values in each column after cleaning customerID :\n",
      " Invoice        0\n",
      "StockCode      0\n",
      "Description    0\n",
      "Quantity       0\n",
      "InvoiceDate    0\n",
      "Price          0\n",
      "Customer ID    0\n",
      "Country        0\n",
      "dtype: int64\n"
     ]
    }
   ],
   "source": [
    "print(\"Missing values in each column after cleaning customerID :\\n\",data.isnull().sum())"
   ]
  },
  {
   "cell_type": "code",
   "execution_count": 26,
   "id": "eb6c5ce7-a5db-4130-ad64-0ebbbe585603",
   "metadata": {},
   "outputs": [
    {
     "name": "stdout",
     "output_type": "stream",
     "text": [
      "Dataset is free from cancelled products information\n"
     ]
    }
   ],
   "source": [
    "data = data[~data.Invoice.str.contains('C',na=False)]\n",
    "print(\"Dataset is free from cancelled products information\")\n"
   ]
  },
  {
   "cell_type": "code",
   "execution_count": 27,
   "id": "b964a1f8-1972-4e40-b802-8fb0e1ba07d1",
   "metadata": {},
   "outputs": [
    {
     "name": "stdout",
     "output_type": "stream",
     "text": [
      "Number of duplicates before cleaning: 6748\n",
      "Number of duplicates after cleaning: 0\n"
     ]
    }
   ],
   "source": [
    "print(\"Number of duplicates before cleaning:\",data.duplicated().sum())\n",
    "data = data.drop_duplicates(keep=\"first\")\n",
    "print(\"Number of duplicates after cleaning:\",data.duplicated().sum())"
   ]
  },
  {
   "cell_type": "code",
   "execution_count": 28,
   "id": "d96201f9-796d-44b0-bdf0-2f34230b9160",
   "metadata": {},
   "outputs": [
    {
     "name": "stdout",
     "output_type": "stream",
     "text": [
      "Negative value in Quantity is: 0\n",
      "Negative value in Price is: 0\n"
     ]
    }
   ],
   "source": [
    "print(\"Negative value in Quantity is:\",(data.Quantity<0).sum())\n",
    "print(\"Negative value in Price is:\",(data.Price<0).sum())"
   ]
  },
  {
   "cell_type": "code",
   "execution_count": 29,
   "id": "024aac82-e694-4042-8c2e-93e97813bfc6",
   "metadata": {},
   "outputs": [],
   "source": [
    "def outlier_thresholds(dataframe, variable):\n",
    "    quartile1 = dataframe[variable].quantile(0.01)\n",
    "    quartile3 = dataframe[variable].quantile(0.99)\n",
    "    interquantile_range = quartile3 - quartile1\n",
    "    up_limit = quartile3 + 1.5 * interquantile_range\n",
    "    low_limit = quartile1 - 1.5 * interquantile_range\n",
    "    return up_limit, low_limit\n",
    "\n",
    "def replace_with_threshold(dataframe, variable):\n",
    "    up_limit, low_limit = outlier_thresholds(dataframe, variable)\n",
    "    # dataframe.loc[(dataframe[variable] < low_limit), variable] = low_limit\n",
    "    dataframe.loc[(dataframe[variable] > up_limit), variable] = up_limit"
   ]
  },
  {
   "cell_type": "code",
   "execution_count": 30,
   "id": "f5e7ccc7-a1f8-44fe-a48d-686f010dd3a0",
   "metadata": {},
   "outputs": [
    {
     "data": {
      "image/png": "[encoded data removed]",
      "text/plain": [
       "<Figure size 2000x500 with 2 Axes>"
      ]
     },
     "metadata": {},
     "output_type": "display_data"
    }
   ],
   "source": [
    "f, ax = plt.subplots(2,1, figsize = (20,5))\n",
    "col_list = [\"Quantity\",\"Price\"]\n",
    "for i in range(0,2):\n",
    "    ax[i].boxplot(data[col_list[i]],flierprops = dict(marker = \"s\", markerfacecolor = \"red\"), vert = 0)\n",
    "plt.show()\n"
   ]
  },
  {
   "cell_type": "code",
   "execution_count": 31,
   "id": "ffe2d5b6-6f13-4373-acde-1942ab4f2079",
   "metadata": {},
   "outputs": [],
   "source": [
    "replace_with_threshold(data, \"Quantity\")\n",
    "replace_with_threshold(data, \"Price\")"
   ]
  },
  {
   "cell_type": "code",
   "execution_count": 32,
   "id": "b09663d4-7e08-4bbb-ab0f-c4f2ecdd6bb8",
   "metadata": {},
   "outputs": [
    {
     "data": {
      "image/png": "[encoded data removed]",
      "text/plain": [
       "<Figure size 2000x500 with 2 Axes>"
      ]
     },
     "metadata": {},
     "output_type": "display_data"
    }
   ],
   "source": [
    "f, ax = plt.subplots(2,1, figsize = (20,5))\n",
    "for i in range(0,2):\n",
    "    ax[i].boxplot(data[col_list[i]],flierprops = dict(marker = \"s\", markerfacecolor = \"red\"), vert = 0)\n",
    "plt.show()"
   ]
  },
  {
   "cell_type": "code",
   "execution_count": 33,
   "id": "c4fe6608-9031-4aba-94ff-2f4b9fe5fce7",
   "metadata": {},
   "outputs": [],
   "source": [
    "data[\"Revenue\"] = data[\"Quantity\"] * data[\"Price\"]"
   ]
  },
  {
   "cell_type": "code",
   "execution_count": 34,
   "id": "8cc13400-35dc-44c7-8076-013673f53d55",
   "metadata": {},
   "outputs": [],
   "source": [
    "data['InvoiceDate'] = pd.to_datetime(data['InvoiceDate'])"
   ]
  },
  {
   "cell_type": "code",
   "execution_count": 35,
   "id": "2d49bc84-a943-44d6-ba5a-5f6696d15c75",
   "metadata": {},
   "outputs": [
    {
     "name": "stdout",
     "output_type": "stream",
     "text": [
      "Max date : 2010-12-09 20:01:00\n",
      "Min date : 2009-12-01 07:45:00\n"
     ]
    }
   ],
   "source": [
    "print(\"Max date :\",data[\"InvoiceDate\"].max())\n",
    "print(\"Min date :\",data[\"InvoiceDate\"].min())"
   ]
  },
  {
   "cell_type": "code",
   "execution_count": 36,
   "id": "3ec3db73-3b4e-4fcf-8311-e91947d4a7ac",
   "metadata": {},
   "outputs": [
    {
     "data": {
      "text/html": [
       "<style type=\"text/css\">\n",
       "#T_a7a15_row0_col0, #T_a7a15_row0_col1, #T_a7a15_row0_col2, #T_a7a15_row0_col3, #T_a7a15_row1_col0, #T_a7a15_row1_col1, #T_a7a15_row1_col2, #T_a7a15_row1_col3, #T_a7a15_row2_col0, #T_a7a15_row2_col1, #T_a7a15_row2_col2, #T_a7a15_row2_col3, #T_a7a15_row3_col0, #T_a7a15_row3_col1, #T_a7a15_row3_col2, #T_a7a15_row3_col3, #T_a7a15_row4_col0, #T_a7a15_row4_col1, #T_a7a15_row4_col2, #T_a7a15_row4_col3 {\n",
       "  background-color: #cd5c5c;\n",
       "  color: black;\n",
       "  border-color: black;\n",
       "}\n",
       "</style>\n",
       "<table id=\"T_a7a15\">\n",
       "  <thead>\n",
       "    <tr>\n",
       "      <th class=\"blank level0\" >&nbsp;</th>\n",
       "      <th id=\"T_a7a15_level0_col0\" class=\"col_heading level0 col0\" >Customer ID</th>\n",
       "      <th id=\"T_a7a15_level0_col1\" class=\"col_heading level0 col1\" >Recency</th>\n",
       "      <th id=\"T_a7a15_level0_col2\" class=\"col_heading level0 col2\" >Frequency</th>\n",
       "      <th id=\"T_a7a15_level0_col3\" class=\"col_heading level0 col3\" >Monetary</th>\n",
       "    </tr>\n",
       "  </thead>\n",
       "  <tbody>\n",
       "    <tr>\n",
       "      <th id=\"T_a7a15_level0_row0\" class=\"row_heading level0 row0\" >0</th>\n",
       "      <td id=\"T_a7a15_row0_col0\" class=\"data row0 col0\" >12346.000000</td>\n",
       "      <td id=\"T_a7a15_row0_col1\" class=\"data row0 col1\" >529</td>\n",
       "      <td id=\"T_a7a15_row0_col2\" class=\"data row0 col2\" >11</td>\n",
       "      <td id=\"T_a7a15_row0_col3\" class=\"data row0 col3\" >372.860000</td>\n",
       "    </tr>\n",
       "    <tr>\n",
       "      <th id=\"T_a7a15_level0_row1\" class=\"row_heading level0 row1\" >1</th>\n",
       "      <td id=\"T_a7a15_row1_col0\" class=\"data row1 col0\" >12347.000000</td>\n",
       "      <td id=\"T_a7a15_row1_col1\" class=\"data row1 col1\" >367</td>\n",
       "      <td id=\"T_a7a15_row1_col2\" class=\"data row1 col2\" >2</td>\n",
       "      <td id=\"T_a7a15_row1_col3\" class=\"data row1 col3\" >1323.320000</td>\n",
       "    </tr>\n",
       "    <tr>\n",
       "      <th id=\"T_a7a15_level0_row2\" class=\"row_heading level0 row2\" >2</th>\n",
       "      <td id=\"T_a7a15_row2_col0\" class=\"data row2 col0\" >12348.000000</td>\n",
       "      <td id=\"T_a7a15_row2_col1\" class=\"data row2 col1\" >438</td>\n",
       "      <td id=\"T_a7a15_row2_col2\" class=\"data row2 col2\" >1</td>\n",
       "      <td id=\"T_a7a15_row2_col3\" class=\"data row2 col3\" >222.160000</td>\n",
       "    </tr>\n",
       "    <tr>\n",
       "      <th id=\"T_a7a15_level0_row3\" class=\"row_heading level0 row3\" >3</th>\n",
       "      <td id=\"T_a7a15_row3_col0\" class=\"data row3 col0\" >12349.000000</td>\n",
       "      <td id=\"T_a7a15_row3_col1\" class=\"data row3 col1\" >407</td>\n",
       "      <td id=\"T_a7a15_row3_col2\" class=\"data row3 col2\" >3</td>\n",
       "      <td id=\"T_a7a15_row3_col3\" class=\"data row3 col3\" >2295.020000</td>\n",
       "    </tr>\n",
       "    <tr>\n",
       "      <th id=\"T_a7a15_level0_row4\" class=\"row_heading level0 row4\" >4</th>\n",
       "      <td id=\"T_a7a15_row4_col0\" class=\"data row4 col0\" >12351.000000</td>\n",
       "      <td id=\"T_a7a15_row4_col1\" class=\"data row4 col1\" >375</td>\n",
       "      <td id=\"T_a7a15_row4_col2\" class=\"data row4 col2\" >1</td>\n",
       "      <td id=\"T_a7a15_row4_col3\" class=\"data row4 col3\" >300.930000</td>\n",
       "    </tr>\n",
       "  </tbody>\n",
       "</table>\n"
      ],
      "text/plain": [
       "<pandas.io.formats.style.Styler at 0x17f55da90>"
      ]
     },
     "execution_count": 36,
     "metadata": {},
     "output_type": "execute_result"
    }
   ],
   "source": [
    "Latest_Date = dt.datetime(2011,12,10)\n",
    "\n",
    "#Creating RFM features with subset of customerID\n",
    "RFM = data.groupby('Customer ID').agg({'InvoiceDate': lambda x: (Latest_Date - x.max()).days, \n",
    "                                                 'Invoice': lambda x: x.nunique(), \n",
    "                                                 \"Revenue\": lambda x: x.sum()})\n",
    "                                \n",
    "RFM['InvoiceDate'] = RFM['InvoiceDate'].astype(int)\n",
    "\n",
    "#Renaming column names to Recency, Frequency and Monetary\n",
    "RFM.rename(columns={'InvoiceDate': 'Recency', \n",
    "                         'Invoice': 'Frequency', \n",
    "                         'Revenue': 'Monetary'}, inplace=True)\n",
    "\n",
    "RFM.reset_index().head().style.set_properties(**{\"background-color\": \"#cd5c5c\",\"color\": \"black\", \"border-color\": \"black\"})"
   ]
  },
  {
   "cell_type": "markdown",
   "id": "a343928f-439f-48b3-8603-c45962aadb62",
   "metadata": {},
   "source": [
    "The Fourth varibale of RFM, InterPurchase Time, is a measure of average time gap between total shopping trips by a customer. The Interpurchase Time is calcluted as fallows :\n",
    "\n",
    "T = L/(F-1) = (Tn - T1)/(F-1)\n",
    "\n",
    "T --> Interpurchase Time\n",
    "L --> Shopping Cycle\n",
    "F --> Frequency\n",
    "T1 --> First purchase\n",
    "Tn --> Last purchase\n",
    "Note: We consider only those customers who made purchase more than once."
   ]
  },
  {
   "cell_type": "code",
   "execution_count": 37,
   "id": "054f3da0-638d-461f-9f72-5cbc2836aebe",
   "metadata": {},
   "outputs": [
    {
     "data": {
      "text/html": [
       "<style type=\"text/css\">\n",
       "#T_8830d_row0_col0, #T_8830d_row0_col1, #T_8830d_row0_col2, #T_8830d_row1_col0, #T_8830d_row1_col1, #T_8830d_row1_col2, #T_8830d_row2_col0, #T_8830d_row2_col1, #T_8830d_row2_col2, #T_8830d_row3_col0, #T_8830d_row3_col1, #T_8830d_row3_col2, #T_8830d_row4_col0, #T_8830d_row4_col1, #T_8830d_row4_col2 {\n",
       "  background-color: #cd5c5c;\n",
       "  color: black;\n",
       "  border-color: black;\n",
       "}\n",
       "</style>\n",
       "<table id=\"T_8830d\">\n",
       "  <thead>\n",
       "    <tr>\n",
       "      <th class=\"blank level0\" >&nbsp;</th>\n",
       "      <th id=\"T_8830d_level0_col0\" class=\"col_heading level0 col0\" >Recency</th>\n",
       "      <th id=\"T_8830d_level0_col1\" class=\"col_heading level0 col1\" >Frequency</th>\n",
       "      <th id=\"T_8830d_level0_col2\" class=\"col_heading level0 col2\" >Monetary</th>\n",
       "    </tr>\n",
       "    <tr>\n",
       "      <th class=\"index_name level0\" >Customer ID</th>\n",
       "      <th class=\"blank col0\" >&nbsp;</th>\n",
       "      <th class=\"blank col1\" >&nbsp;</th>\n",
       "      <th class=\"blank col2\" >&nbsp;</th>\n",
       "    </tr>\n",
       "  </thead>\n",
       "  <tbody>\n",
       "    <tr>\n",
       "      <th id=\"T_8830d_level0_row0\" class=\"row_heading level0 row0\" >12346.000000</th>\n",
       "      <td id=\"T_8830d_row0_col0\" class=\"data row0 col0\" >529</td>\n",
       "      <td id=\"T_8830d_row0_col1\" class=\"data row0 col1\" >11</td>\n",
       "      <td id=\"T_8830d_row0_col2\" class=\"data row0 col2\" >372.860000</td>\n",
       "    </tr>\n",
       "    <tr>\n",
       "      <th id=\"T_8830d_level0_row1\" class=\"row_heading level0 row1\" >12347.000000</th>\n",
       "      <td id=\"T_8830d_row1_col0\" class=\"data row1 col0\" >367</td>\n",
       "      <td id=\"T_8830d_row1_col1\" class=\"data row1 col1\" >2</td>\n",
       "      <td id=\"T_8830d_row1_col2\" class=\"data row1 col2\" >1323.320000</td>\n",
       "    </tr>\n",
       "    <tr>\n",
       "      <th id=\"T_8830d_level0_row2\" class=\"row_heading level0 row2\" >12349.000000</th>\n",
       "      <td id=\"T_8830d_row2_col0\" class=\"data row2 col0\" >407</td>\n",
       "      <td id=\"T_8830d_row2_col1\" class=\"data row2 col1\" >3</td>\n",
       "      <td id=\"T_8830d_row2_col2\" class=\"data row2 col2\" >2295.020000</td>\n",
       "    </tr>\n",
       "    <tr>\n",
       "      <th id=\"T_8830d_level0_row3\" class=\"row_heading level0 row3\" >12352.000000</th>\n",
       "      <td id=\"T_8830d_row3_col0\" class=\"data row3 col0\" >375</td>\n",
       "      <td id=\"T_8830d_row3_col1\" class=\"data row3 col1\" >2</td>\n",
       "      <td id=\"T_8830d_row3_col2\" class=\"data row3 col2\" >343.800000</td>\n",
       "    </tr>\n",
       "    <tr>\n",
       "      <th id=\"T_8830d_level0_row4\" class=\"row_heading level0 row4\" >12356.000000</th>\n",
       "      <td id=\"T_8830d_row4_col0\" class=\"data row4 col0\" >380</td>\n",
       "      <td id=\"T_8830d_row4_col1\" class=\"data row4 col1\" >3</td>\n",
       "      <td id=\"T_8830d_row4_col2\" class=\"data row4 col2\" >3560.300000</td>\n",
       "    </tr>\n",
       "  </tbody>\n",
       "</table>\n"
      ],
      "text/plain": [
       "<pandas.io.formats.style.Styler at 0x17f55dd10>"
      ]
     },
     "execution_count": 37,
     "metadata": {},
     "output_type": "execute_result"
    }
   ],
   "source": [
    "RFM = RFM[(RFM[\"Frequency\"]>1)]\n",
    "RFM.head().style.set_properties(**{\"background-color\": \"#cd5c5c\",\"color\": \"black\", \"border-color\": \"black\"})\n"
   ]
  },
  {
   "cell_type": "code",
   "execution_count": 38,
   "id": "fa889414-f39b-4bb4-a7af-94f5482719eb",
   "metadata": {},
   "outputs": [],
   "source": [
    "Shopping_Cycle = data.groupby('Customer ID').agg({'InvoiceDate': lambda x: ((x.max() - x.min()).days)})"
   ]
  },
  {
   "cell_type": "code",
   "execution_count": 39,
   "id": "2f38e18d-b687-451d-93da-932c75260e24",
   "metadata": {},
   "outputs": [
    {
     "data": {
      "text/html": [
       "<style type=\"text/css\">\n",
       "#T_61260_row0_col0, #T_61260_row0_col1, #T_61260_row0_col2, #T_61260_row0_col3, #T_61260_row1_col0, #T_61260_row1_col1, #T_61260_row1_col2, #T_61260_row1_col3, #T_61260_row2_col0, #T_61260_row2_col1, #T_61260_row2_col2, #T_61260_row2_col3, #T_61260_row3_col0, #T_61260_row3_col1, #T_61260_row3_col2, #T_61260_row3_col3, #T_61260_row4_col0, #T_61260_row4_col1, #T_61260_row4_col2, #T_61260_row4_col3 {\n",
       "  background-color: #cd5c5c;\n",
       "  color: black;\n",
       "  border-color: black;\n",
       "}\n",
       "</style>\n",
       "<table id=\"T_61260\">\n",
       "  <thead>\n",
       "    <tr>\n",
       "      <th class=\"blank level0\" >&nbsp;</th>\n",
       "      <th id=\"T_61260_level0_col0\" class=\"col_heading level0 col0\" >Recency</th>\n",
       "      <th id=\"T_61260_level0_col1\" class=\"col_heading level0 col1\" >Frequency</th>\n",
       "      <th id=\"T_61260_level0_col2\" class=\"col_heading level0 col2\" >Monetary</th>\n",
       "      <th id=\"T_61260_level0_col3\" class=\"col_heading level0 col3\" >Shopping_Cycle</th>\n",
       "    </tr>\n",
       "    <tr>\n",
       "      <th class=\"index_name level0\" >Customer ID</th>\n",
       "      <th class=\"blank col0\" >&nbsp;</th>\n",
       "      <th class=\"blank col1\" >&nbsp;</th>\n",
       "      <th class=\"blank col2\" >&nbsp;</th>\n",
       "      <th class=\"blank col3\" >&nbsp;</th>\n",
       "    </tr>\n",
       "  </thead>\n",
       "  <tbody>\n",
       "    <tr>\n",
       "      <th id=\"T_61260_level0_row0\" class=\"row_heading level0 row0\" >12346.000000</th>\n",
       "      <td id=\"T_61260_row0_col0\" class=\"data row0 col0\" >529</td>\n",
       "      <td id=\"T_61260_row0_col1\" class=\"data row0 col1\" >11</td>\n",
       "      <td id=\"T_61260_row0_col2\" class=\"data row0 col2\" >372.860000</td>\n",
       "      <td id=\"T_61260_row0_col3\" class=\"data row0 col3\" >196</td>\n",
       "    </tr>\n",
       "    <tr>\n",
       "      <th id=\"T_61260_level0_row1\" class=\"row_heading level0 row1\" >12347.000000</th>\n",
       "      <td id=\"T_61260_row1_col0\" class=\"data row1 col0\" >367</td>\n",
       "      <td id=\"T_61260_row1_col1\" class=\"data row1 col1\" >2</td>\n",
       "      <td id=\"T_61260_row1_col2\" class=\"data row1 col2\" >1323.320000</td>\n",
       "      <td id=\"T_61260_row1_col3\" class=\"data row1 col3\" >37</td>\n",
       "    </tr>\n",
       "    <tr>\n",
       "      <th id=\"T_61260_level0_row2\" class=\"row_heading level0 row2\" >12349.000000</th>\n",
       "      <td id=\"T_61260_row2_col0\" class=\"data row2 col0\" >407</td>\n",
       "      <td id=\"T_61260_row2_col1\" class=\"data row2 col1\" >3</td>\n",
       "      <td id=\"T_61260_row2_col2\" class=\"data row2 col2\" >2295.020000</td>\n",
       "      <td id=\"T_61260_row2_col3\" class=\"data row2 col3\" >181</td>\n",
       "    </tr>\n",
       "    <tr>\n",
       "      <th id=\"T_61260_level0_row3\" class=\"row_heading level0 row3\" >12352.000000</th>\n",
       "      <td id=\"T_61260_row3_col0\" class=\"data row3 col0\" >375</td>\n",
       "      <td id=\"T_61260_row3_col1\" class=\"data row3 col1\" >2</td>\n",
       "      <td id=\"T_61260_row3_col2\" class=\"data row3 col2\" >343.800000</td>\n",
       "      <td id=\"T_61260_row3_col3\" class=\"data row3 col3\" >16</td>\n",
       "    </tr>\n",
       "    <tr>\n",
       "      <th id=\"T_61260_level0_row4\" class=\"row_heading level0 row4\" >12356.000000</th>\n",
       "      <td id=\"T_61260_row4_col0\" class=\"data row4 col0\" >380</td>\n",
       "      <td id=\"T_61260_row4_col1\" class=\"data row4 col1\" >3</td>\n",
       "      <td id=\"T_61260_row4_col2\" class=\"data row4 col2\" >3560.300000</td>\n",
       "      <td id=\"T_61260_row4_col3\" class=\"data row4 col3\" >44</td>\n",
       "    </tr>\n",
       "  </tbody>\n",
       "</table>\n"
      ],
      "text/plain": [
       "<pandas.io.formats.style.Styler at 0x17f55dbd0>"
      ]
     },
     "execution_count": 39,
     "metadata": {},
     "output_type": "execute_result"
    }
   ],
   "source": [
    "RFM[\"Shopping_Cycle\"] = Shopping_Cycle\n",
    "RFM.head().style.set_properties(**{\"background-color\": \"#cd5c5c\",\"color\": \"black\", \"border-color\": \"black\"})"
   ]
  },
  {
   "cell_type": "code",
   "execution_count": 40,
   "id": "7a040d62-7e1d-469b-a72e-689e55a8de88",
   "metadata": {},
   "outputs": [
    {
     "data": {
      "text/html": [
       "<style type=\"text/css\">\n",
       "#T_d1214_row0_col0, #T_d1214_row0_col1, #T_d1214_row0_col2, #T_d1214_row0_col3, #T_d1214_row1_col0, #T_d1214_row1_col1, #T_d1214_row1_col2, #T_d1214_row1_col3, #T_d1214_row2_col0, #T_d1214_row2_col1, #T_d1214_row2_col2, #T_d1214_row2_col3, #T_d1214_row3_col0, #T_d1214_row3_col1, #T_d1214_row3_col2, #T_d1214_row3_col3, #T_d1214_row4_col0, #T_d1214_row4_col1, #T_d1214_row4_col2, #T_d1214_row4_col3 {\n",
       "  background-color: #cd5c5c;\n",
       "  color: black;\n",
       "  border-color: black;\n",
       "}\n",
       "</style>\n",
       "<table id=\"T_d1214\">\n",
       "  <thead>\n",
       "    <tr>\n",
       "      <th class=\"blank level0\" >&nbsp;</th>\n",
       "      <th id=\"T_d1214_level0_col0\" class=\"col_heading level0 col0\" >Recency</th>\n",
       "      <th id=\"T_d1214_level0_col1\" class=\"col_heading level0 col1\" >Frequency</th>\n",
       "      <th id=\"T_d1214_level0_col2\" class=\"col_heading level0 col2\" >Monetary</th>\n",
       "      <th id=\"T_d1214_level0_col3\" class=\"col_heading level0 col3\" >Interpurchase_Time</th>\n",
       "    </tr>\n",
       "    <tr>\n",
       "      <th class=\"index_name level0\" >Customer ID</th>\n",
       "      <th class=\"blank col0\" >&nbsp;</th>\n",
       "      <th class=\"blank col1\" >&nbsp;</th>\n",
       "      <th class=\"blank col2\" >&nbsp;</th>\n",
       "      <th class=\"blank col3\" >&nbsp;</th>\n",
       "    </tr>\n",
       "  </thead>\n",
       "  <tbody>\n",
       "    <tr>\n",
       "      <th id=\"T_d1214_level0_row0\" class=\"row_heading level0 row0\" >12346.000000</th>\n",
       "      <td id=\"T_d1214_row0_col0\" class=\"data row0 col0\" >529</td>\n",
       "      <td id=\"T_d1214_row0_col1\" class=\"data row0 col1\" >11</td>\n",
       "      <td id=\"T_d1214_row0_col2\" class=\"data row0 col2\" >372.860000</td>\n",
       "      <td id=\"T_d1214_row0_col3\" class=\"data row0 col3\" >17</td>\n",
       "    </tr>\n",
       "    <tr>\n",
       "      <th id=\"T_d1214_level0_row1\" class=\"row_heading level0 row1\" >12347.000000</th>\n",
       "      <td id=\"T_d1214_row1_col0\" class=\"data row1 col0\" >367</td>\n",
       "      <td id=\"T_d1214_row1_col1\" class=\"data row1 col1\" >2</td>\n",
       "      <td id=\"T_d1214_row1_col2\" class=\"data row1 col2\" >1323.320000</td>\n",
       "      <td id=\"T_d1214_row1_col3\" class=\"data row1 col3\" >18</td>\n",
       "    </tr>\n",
       "    <tr>\n",
       "      <th id=\"T_d1214_level0_row2\" class=\"row_heading level0 row2\" >12349.000000</th>\n",
       "      <td id=\"T_d1214_row2_col0\" class=\"data row2 col0\" >407</td>\n",
       "      <td id=\"T_d1214_row2_col1\" class=\"data row2 col1\" >3</td>\n",
       "      <td id=\"T_d1214_row2_col2\" class=\"data row2 col2\" >2295.020000</td>\n",
       "      <td id=\"T_d1214_row2_col3\" class=\"data row2 col3\" >60</td>\n",
       "    </tr>\n",
       "    <tr>\n",
       "      <th id=\"T_d1214_level0_row3\" class=\"row_heading level0 row3\" >12352.000000</th>\n",
       "      <td id=\"T_d1214_row3_col0\" class=\"data row3 col0\" >375</td>\n",
       "      <td id=\"T_d1214_row3_col1\" class=\"data row3 col1\" >2</td>\n",
       "      <td id=\"T_d1214_row3_col2\" class=\"data row3 col2\" >343.800000</td>\n",
       "      <td id=\"T_d1214_row3_col3\" class=\"data row3 col3\" >8</td>\n",
       "    </tr>\n",
       "    <tr>\n",
       "      <th id=\"T_d1214_level0_row4\" class=\"row_heading level0 row4\" >12356.000000</th>\n",
       "      <td id=\"T_d1214_row4_col0\" class=\"data row4 col0\" >380</td>\n",
       "      <td id=\"T_d1214_row4_col1\" class=\"data row4 col1\" >3</td>\n",
       "      <td id=\"T_d1214_row4_col2\" class=\"data row4 col2\" >3560.300000</td>\n",
       "      <td id=\"T_d1214_row4_col3\" class=\"data row4 col3\" >14</td>\n",
       "    </tr>\n",
       "  </tbody>\n",
       "</table>\n"
      ],
      "text/plain": [
       "<pandas.io.formats.style.Styler at 0x16afc1450>"
      ]
     },
     "execution_count": 40,
     "metadata": {},
     "output_type": "execute_result"
    }
   ],
   "source": [
    "RFM[\"Interpurchase_Time\"] = RFM[\"Shopping_Cycle\"] // RFM[\"Frequency\"]\n",
    "RFMT = RFM[[\"Recency\",\"Frequency\",\"Monetary\",\"Interpurchase_Time\"]]\n",
    "RFMT.head().style.set_properties(**{\"background-color\": \"#cd5c5c\",\"color\": \"black\", \"border-color\": \"black\"})"
   ]
  },
  {
   "cell_type": "code",
   "execution_count": 42,
   "id": "43471447-b04b-40f4-9c39-7729a7d4e3c7",
   "metadata": {},
   "outputs": [
    {
     "name": "stdout",
     "output_type": "stream",
     "text": [
      "Collecting yellowbrick\n",
      "  Downloading yellowbrick-1.5-py3-none-any.whl.metadata (7.7 kB)\n",
      "Requirement already satisfied: matplotlib!=3.0.0,>=2.0.2 in /Library/Frameworks/Python.framework/Versions/3.13/lib/python3.13/site-packages (from yellowbrick) (3.10.3)\n",
      "Requirement already satisfied: scipy>=1.0.0 in /Library/Frameworks/Python.framework/Versions/3.13/lib/python3.13/site-packages (from yellowbrick) (1.15.3)\n",
      "Requirement already satisfied: scikit-learn>=1.0.0 in /Library/Frameworks/Python.framework/Versions/3.13/lib/python3.13/site-packages (from yellowbrick) (1.6.1)\n",
      "Requirement already satisfied: numpy>=1.16.0 in /Library/Frameworks/Python.framework/Versions/3.13/lib/python3.13/site-packages (from yellowbrick) (2.2.5)\n",
      "Requirement already satisfied: cycler>=0.10.0 in /Library/Frameworks/Python.framework/Versions/3.13/lib/python3.13/site-packages (from yellowbrick) (0.12.1)\n",
      "Requirement already satisfied: contourpy>=1.0.1 in /Library/Frameworks/Python.framework/Versions/3.13/lib/python3.13/site-packages (from matplotlib!=3.0.0,>=2.0.2->yellowbrick) (1.3.2)\n",
      "Requirement already satisfied: fonttools>=4.22.0 in /Library/Frameworks/Python.framework/Versions/3.13/lib/python3.13/site-packages (from matplotlib!=3.0.0,>=2.0.2->yellowbrick) (4.58.1)\n",
      "Requirement already satisfied: kiwisolver>=1.3.1 in /Library/Frameworks/Python.framework/Versions/3.13/lib/python3.13/site-packages (from matplotlib!=3.0.0,>=2.0.2->yellowbrick) (1.4.8)\n",
      "Requirement already satisfied: packaging>=20.0 in /Library/Frameworks/Python.framework/Versions/3.13/lib/python3.13/site-packages (from matplotlib!=3.0.0,>=2.0.2->yellowbrick) (24.2)\n",
      "Requirement already satisfied: pillow>=8 in /Library/Frameworks/Python.framework/Versions/3.13/lib/python3.13/site-packages (from matplotlib!=3.0.0,>=2.0.2->yellowbrick) (11.2.1)\n",
      "Requirement already satisfied: pyparsing>=2.3.1 in /Library/Frameworks/Python.framework/Versions/3.13/lib/python3.13/site-packages (from matplotlib!=3.0.0,>=2.0.2->yellowbrick) (3.2.3)\n",
      "Requirement already satisfied: python-dateutil>=2.7 in /Library/Frameworks/Python.framework/Versions/3.13/lib/python3.13/site-packages (from matplotlib!=3.0.0,>=2.0.2->yellowbrick) (2.9.0.post0)\n",
      "Requirement already satisfied: six>=1.5 in /Library/Frameworks/Python.framework/Versions/3.13/lib/python3.13/site-packages (from python-dateutil>=2.7->matplotlib!=3.0.0,>=2.0.2->yellowbrick) (1.17.0)\n",
      "Requirement already satisfied: joblib>=1.2.0 in /Library/Frameworks/Python.framework/Versions/3.13/lib/python3.13/site-packages (from scikit-learn>=1.0.0->yellowbrick) (1.5.1)\n",
      "Requirement already satisfied: threadpoolctl>=3.1.0 in /Library/Frameworks/Python.framework/Versions/3.13/lib/python3.13/site-packages (from scikit-learn>=1.0.0->yellowbrick) (3.6.0)\n",
      "Downloading yellowbrick-1.5-py3-none-any.whl (282 kB)\n",
      "Installing collected packages: yellowbrick\n",
      "Successfully installed yellowbrick-1.5\n"
     ]
    }
   ],
   "source": [
    "!pip install yellowbrick\n"
   ]
  },
  {
   "cell_type": "code",
   "execution_count": 51,
   "id": "37297187-822a-4bbc-8504-2a83d066b65e",
   "metadata": {},
   "outputs": [],
   "source": [
    "import numpy as np\n",
    "from sklearn.preprocessing import StandardScaler\n",
    "\n",
    "# Optional: clip extreme outliers (cap at 99th percentile)\n",
    "RFMT_clipped = RFMT.copy()\n",
    "for col in RFMT_clipped.columns:\n",
    "    cap = RFMT_clipped[col].quantile(0.99)\n",
    "    RFMT_clipped[col] = np.where(RFMT_clipped[col] > cap, cap, RFMT_clipped[col])\n",
    "\n",
    "# Now scale\n",
    "scaler = StandardScaler()\n",
    "RFMT_scaled = scaler.fit_transform(RFMT_clipped)\n",
    "\n"
   ]
  },
  {
   "cell_type": "code",
   "execution_count": 53,
   "id": "01e6ccb3-83d7-4d6e-8e8d-a8e34a370582",
   "metadata": {},
   "outputs": [],
   "source": [
    "for col in RFMT_clipped.columns:\n",
    "    cap = RFMT_clipped[col].quantile(0.95)\n",
    "    RFMT_clipped[col] = np.where(RFMT_clipped[col] > cap, cap, RFMT_clipped[col])\n"
   ]
  },
  {
   "cell_type": "code",
   "execution_count": 54,
   "id": "37ae8635-759d-49e9-a5a2-28cd60e218b4",
   "metadata": {},
   "outputs": [],
   "source": [
    "RFMT_log = RFMT.copy()\n",
    "RFMT_log['Monetary'] = np.log1p(RFMT_log['Monetary'])\n",
    "RFMT_log['Frequency'] = np.log1p(RFMT_log['Frequency'])\n",
    "RFMT_log['Interpurchase_Time'] = np.log1p(RFMT_log['Interpurchase_Time'])\n",
    "\n",
    "scaler = StandardScaler()\n",
    "RFMT_scaled = scaler.fit_transform(RFMT_log)\n"
   ]
  },
  {
   "cell_type": "code",
   "execution_count": 55,
   "id": "32c4f82a-3291-4ce6-8fc6-60ca69213b17",
   "metadata": {},
   "outputs": [],
   "source": [
    "import warnings\n",
    "warnings.filterwarnings('ignore')\n"
   ]
  },
  {
   "cell_type": "code",
   "execution_count": 56,
   "id": "9c84cfed-7b0e-41e5-879f-994cffe80128",
   "metadata": {},
   "outputs": [
    {
     "data": {
      "image/png": "[encoded data removed]",
      "text/plain": [
       "<Figure size 800x550 with 2 Axes>"
      ]
     },
     "metadata": {},
     "output_type": "display_data"
    },
    {
     "data": {
      "text/plain": [
       "<Axes: title={'center': 'Distortion Score Elbow for KMeans Clustering'}, xlabel='k', ylabel='distortion score'>"
      ]
     },
     "execution_count": 56,
     "metadata": {},
     "output_type": "execute_result"
    }
   ],
   "source": [
    "from yellowbrick.cluster import KElbowVisualizer\n",
    "from sklearn.cluster import KMeans\n",
    "import matplotlib.pyplot as plt\n",
    "\n",
    "# Plot\n",
    "model = KMeans()\n",
    "visualizer = KElbowVisualizer(model, k=(2,10))\n",
    "\n",
    "visualizer.fit(RFMT_scaled)\n",
    "visualizer.show()\n"
   ]
  },
  {
   "cell_type": "code",
   "execution_count": 48,
   "id": "3c41043d-3c14-4483-acdf-07e32045d66b",
   "metadata": {},
   "outputs": [
    {
     "name": "stdout",
     "output_type": "stream",
     "text": [
      "<class 'pandas.core.frame.DataFrame'>\n",
      "Index: 2893 entries, 12346.0 to 18287.0\n",
      "Data columns (total 4 columns):\n",
      " #   Column              Non-Null Count  Dtype  \n",
      "---  ------              --------------  -----  \n",
      " 0   Recency             2893 non-null   int64  \n",
      " 1   Frequency           2893 non-null   int64  \n",
      " 2   Monetary            2893 non-null   float64\n",
      " 3   Interpurchase_Time  2893 non-null   int64  \n",
      "dtypes: float64(1), int64(3)\n",
      "memory usage: 113.0 KB\n",
      "None\n",
      "           Recency    Frequency       Monetary  Interpurchase_Time\n",
      "count  2893.000000  2893.000000    2893.000000         2893.000000\n",
      "mean    425.541652     6.150709    2740.612223           45.055652\n",
      "std      70.059252     9.527428   10002.177365           32.320116\n",
      "min     365.000000     2.000000      24.050000            0.000000\n",
      "25%     378.000000     2.000000     619.080000           22.000000\n",
      "50%     399.000000     4.000000    1203.530000           39.000000\n",
      "75%     444.000000     7.000000    2414.180000           61.000000\n",
      "max     738.000000   205.000000  313853.375000          180.000000\n",
      "Recency               0\n",
      "Frequency             0\n",
      "Monetary              0\n",
      "Interpurchase_Time    0\n",
      "dtype: int64\n"
     ]
    }
   ],
   "source": [
    "print(RFMT.info())\n",
    "print(RFMT.describe())\n",
    "print(RFMT.isnull().sum())\n"
   ]
  },
  {
   "cell_type": "code",
   "execution_count": 57,
   "id": "987d208d-e13c-499e-9c11-3c58bd87b2de",
   "metadata": {},
   "outputs": [
    {
     "data": {
      "text/html": [
       "<style>#sk-container-id-1 {\n",
       "  /* Definition of color scheme common for light and dark mode */\n",
       "  --sklearn-color-text: #000;\n",
       "  --sklearn-color-text-muted: #666;\n",
       "  --sklearn-color-line: gray;\n",
       "  /* Definition of color scheme for unfitted estimators */\n",
       "  --sklearn-color-unfitted-level-0: #fff5e6;\n",
       "  --sklearn-color-unfitted-level-1: #f6e4d2;\n",
       "  --sklearn-color-unfitted-level-2: #ffe0b3;\n",
       "  --sklearn-color-unfitted-level-3: chocolate;\n",
       "  /* Definition of color scheme for fitted estimators */\n",
       "  --sklearn-color-fitted-level-0: #f0f8ff;\n",
       "  --sklearn-color-fitted-level-1: #d4ebff;\n",
       "  --sklearn-color-fitted-level-2: #b3dbfd;\n",
       "  --sklearn-color-fitted-level-3: cornflowerblue;\n",
       "\n",
       "  /* Specific color for light theme */\n",
       "  --sklearn-color-text-on-default-background: var(--sg-text-color, var(--theme-code-foreground, var(--jp-content-font-color1, black)));\n",
       "  --sklearn-color-background: var(--sg-background-color, var(--theme-background, var(--jp-layout-color0, white)));\n",
       "  --sklearn-color-border-box: var(--sg-text-color, var(--theme-code-foreground, var(--jp-content-font-color1, black)));\n",
       "  --sklearn-color-icon: #696969;\n",
       "\n",
       "  @media (prefers-color-scheme: dark) {\n",
       "    /* Redefinition of color scheme for dark theme */\n",
       "    --sklearn-color-text-on-default-background: var(--sg-text-color, var(--theme-code-foreground, var(--jp-content-font-color1, white)));\n",
       "    --sklearn-color-background: var(--sg-background-color, var(--theme-background, var(--jp-layout-color0, #111)));\n",
       "    --sklearn-color-border-box: var(--sg-text-color, var(--theme-code-foreground, var(--jp-content-font-color1, white)));\n",
       "    --sklearn-color-icon: #878787;\n",
       "  }\n",
       "}\n",
       "\n",
       "#sk-container-id-1 {\n",
       "  color: var(--sklearn-color-text);\n",
       "}\n",
       "\n",
       "#sk-container-id-1 pre {\n",
       "  padding: 0;\n",
       "}\n",
       "\n",
       "#sk-container-id-1 input.sk-hidden--visually {\n",
       "  border: 0;\n",
       "  clip: rect(1px 1px 1px 1px);\n",
       "  clip: rect(1px, 1px, 1px, 1px);\n",
       "  height: 1px;\n",
       "  margin: -1px;\n",
       "  overflow: hidden;\n",
       "  padding: 0;\n",
       "  position: absolute;\n",
       "  width: 1px;\n",
       "}\n",
       "\n",
       "#sk-container-id-1 div.sk-dashed-wrapped {\n",
       "  border: 1px dashed var(--sklearn-color-line);\n",
       "  margin: 0 0.4em 0.5em 0.4em;\n",
       "  box-sizing: border-box;\n",
       "  padding-bottom: 0.4em;\n",
       "  background-color: var(--sklearn-color-background);\n",
       "}\n",
       "\n",
       "#sk-container-id-1 div.sk-container {\n",
       "  /* jupyter's `normalize.less` sets `[hidden] { display: none; }`\n",
       "     but bootstrap.min.css set `[hidden] { display: none !important; }`\n",
       "     so we also need the `!important` here to be able to override the\n",
       "     default hidden behavior on the sphinx rendered scikit-learn.org.\n",
       "     See: https://github.com/scikit-learn/scikit-learn/issues/21755 */\n",
       "  display: inline-block !important;\n",
       "  position: relative;\n",
       "}\n",
       "\n",
       "#sk-container-id-1 div.sk-text-repr-fallback {\n",
       "  display: none;\n",
       "}\n",
       "\n",
       "div.sk-parallel-item,\n",
       "div.sk-serial,\n",
       "div.sk-item {\n",
       "  /* draw centered vertical line to link estimators */\n",
       "  background-image: linear-gradient(var(--sklearn-color-text-on-default-background), var(--sklearn-color-text-on-default-background));\n",
       "  background-size: 2px 100%;\n",
       "  background-repeat: no-repeat;\n",
       "  background-position: center center;\n",
       "}\n",
       "\n",
       "/* Parallel-specific style estimator block */\n",
       "\n",
       "#sk-container-id-1 div.sk-parallel-item::after {\n",
       "  content: \"\";\n",
       "  width: 100%;\n",
       "  border-bottom: 2px solid var(--sklearn-color-text-on-default-background);\n",
       "  flex-grow: 1;\n",
       "}\n",
       "\n",
       "#sk-container-id-1 div.sk-parallel {\n",
       "  display: flex;\n",
       "  align-items: stretch;\n",
       "  justify-content: center;\n",
       "  background-color: var(--sklearn-color-background);\n",
       "  position: relative;\n",
       "}\n",
       "\n",
       "#sk-container-id-1 div.sk-parallel-item {\n",
       "  display: flex;\n",
       "  flex-direction: column;\n",
       "}\n",
       "\n",
       "#sk-container-id-1 div.sk-parallel-item:first-child::after {\n",
       "  align-self: flex-end;\n",
       "  width: 50%;\n",
       "}\n",
       "\n",
       "#sk-container-id-1 div.sk-parallel-item:last-child::after {\n",
       "  align-self: flex-start;\n",
       "  width: 50%;\n",
       "}\n",
       "\n",
       "#sk-container-id-1 div.sk-parallel-item:only-child::after {\n",
       "  width: 0;\n",
       "}\n",
       "\n",
       "/* Serial-specific style estimator block */\n",
       "\n",
       "#sk-container-id-1 div.sk-serial {\n",
       "  display: flex;\n",
       "  flex-direction: column;\n",
       "  align-items: center;\n",
       "  background-color: var(--sklearn-color-background);\n",
       "  padding-right: 1em;\n",
       "  padding-left: 1em;\n",
       "}\n",
       "\n",
       "\n",
       "/* Toggleable style: style used for estimator/Pipeline/ColumnTransformer box that is\n",
       "clickable and can be expanded/collapsed.\n",
       "- Pipeline and ColumnTransformer use this feature and define the default style\n",
       "- Estimators will overwrite some part of the style using the `sk-estimator` class\n",
       "*/\n",
       "\n",
       "/* Pipeline and ColumnTransformer style (default) */\n",
       "\n",
       "#sk-container-id-1 div.sk-toggleable {\n",
       "  /* Default theme specific background. It is overwritten whether we have a\n",
       "  specific estimator or a Pipeline/ColumnTransformer */\n",
       "  background-color: var(--sklearn-color-background);\n",
       "}\n",
       "\n",
       "/* Toggleable label */\n",
       "#sk-container-id-1 label.sk-toggleable__label {\n",
       "  cursor: pointer;\n",
       "  display: flex;\n",
       "  width: 100%;\n",
       "  margin-bottom: 0;\n",
       "  padding: 0.5em;\n",
       "  box-sizing: border-box;\n",
       "  text-align: center;\n",
       "  align-items: start;\n",
       "  justify-content: space-between;\n",
       "  gap: 0.5em;\n",
       "}\n",
       "\n",
       "#sk-container-id-1 label.sk-toggleable__label .caption {\n",
       "  font-size: 0.6rem;\n",
       "  font-weight: lighter;\n",
       "  color: var(--sklearn-color-text-muted);\n",
       "}\n",
       "\n",
       "#sk-container-id-1 label.sk-toggleable__label-arrow:before {\n",
       "  /* Arrow on the left of the label */\n",
       "  content: \"▸\";\n",
       "  float: left;\n",
       "  margin-right: 0.25em;\n",
       "  color: var(--sklearn-color-icon);\n",
       "}\n",
       "\n",
       "#sk-container-id-1 label.sk-toggleable__label-arrow:hover:before {\n",
       "  color: var(--sklearn-color-text);\n",
       "}\n",
       "\n",
       "/* Toggleable content - dropdown */\n",
       "\n",
       "#sk-container-id-1 div.sk-toggleable__content {\n",
       "  max-height: 0;\n",
       "  max-width: 0;\n",
       "  overflow: hidden;\n",
       "  text-align: left;\n",
       "  /* unfitted */\n",
       "  background-color: var(--sklearn-color-unfitted-level-0);\n",
       "}\n",
       "\n",
       "#sk-container-id-1 div.sk-toggleable__content.fitted {\n",
       "  /* fitted */\n",
       "  background-color: var(--sklearn-color-fitted-level-0);\n",
       "}\n",
       "\n",
       "#sk-container-id-1 div.sk-toggleable__content pre {\n",
       "  margin: 0.2em;\n",
       "  border-radius: 0.25em;\n",
       "  color: var(--sklearn-color-text);\n",
       "  /* unfitted */\n",
       "  background-color: var(--sklearn-color-unfitted-level-0);\n",
       "}\n",
       "\n",
       "#sk-container-id-1 div.sk-toggleable__content.fitted pre {\n",
       "  /* unfitted */\n",
       "  background-color: var(--sklearn-color-fitted-level-0);\n",
       "}\n",
       "\n",
       "#sk-container-id-1 input.sk-toggleable__control:checked~div.sk-toggleable__content {\n",
       "  /* Expand drop-down */\n",
       "  max-height: 200px;\n",
       "  max-width: 100%;\n",
       "  overflow: auto;\n",
       "}\n",
       "\n",
       "#sk-container-id-1 input.sk-toggleable__control:checked~label.sk-toggleable__label-arrow:before {\n",
       "  content: \"▾\";\n",
       "}\n",
       "\n",
       "/* Pipeline/ColumnTransformer-specific style */\n",
       "\n",
       "#sk-container-id-1 div.sk-label input.sk-toggleable__control:checked~label.sk-toggleable__label {\n",
       "  color: var(--sklearn-color-text);\n",
       "  background-color: var(--sklearn-color-unfitted-level-2);\n",
       "}\n",
       "\n",
       "#sk-container-id-1 div.sk-label.fitted input.sk-toggleable__control:checked~label.sk-toggleable__label {\n",
       "  background-color: var(--sklearn-color-fitted-level-2);\n",
       "}\n",
       "\n",
       "/* Estimator-specific style */\n",
       "\n",
       "/* Colorize estimator box */\n",
       "#sk-container-id-1 div.sk-estimator input.sk-toggleable__control:checked~label.sk-toggleable__label {\n",
       "  /* unfitted */\n",
       "  background-color: var(--sklearn-color-unfitted-level-2);\n",
       "}\n",
       "\n",
       "#sk-container-id-1 div.sk-estimator.fitted input.sk-toggleable__control:checked~label.sk-toggleable__label {\n",
       "  /* fitted */\n",
       "  background-color: var(--sklearn-color-fitted-level-2);\n",
       "}\n",
       "\n",
       "#sk-container-id-1 div.sk-label label.sk-toggleable__label,\n",
       "#sk-container-id-1 div.sk-label label {\n",
       "  /* The background is the default theme color */\n",
       "  color: var(--sklearn-color-text-on-default-background);\n",
       "}\n",
       "\n",
       "/* On hover, darken the color of the background */\n",
       "#sk-container-id-1 div.sk-label:hover label.sk-toggleable__label {\n",
       "  color: var(--sklearn-color-text);\n",
       "  background-color: var(--sklearn-color-unfitted-level-2);\n",
       "}\n",
       "\n",
       "/* Label box, darken color on hover, fitted */\n",
       "#sk-container-id-1 div.sk-label.fitted:hover label.sk-toggleable__label.fitted {\n",
       "  color: var(--sklearn-color-text);\n",
       "  background-color: var(--sklearn-color-fitted-level-2);\n",
       "}\n",
       "\n",
       "/* Estimator label */\n",
       "\n",
       "#sk-container-id-1 div.sk-label label {\n",
       "  font-family: monospace;\n",
       "  font-weight: bold;\n",
       "  display: inline-block;\n",
       "  line-height: 1.2em;\n",
       "}\n",
       "\n",
       "#sk-container-id-1 div.sk-label-container {\n",
       "  text-align: center;\n",
       "}\n",
       "\n",
       "/* Estimator-specific */\n",
       "#sk-container-id-1 div.sk-estimator {\n",
       "  font-family: monospace;\n",
       "  border: 1px dotted var(--sklearn-color-border-box);\n",
       "  border-radius: 0.25em;\n",
       "  box-sizing: border-box;\n",
       "  margin-bottom: 0.5em;\n",
       "  /* unfitted */\n",
       "  background-color: var(--sklearn-color-unfitted-level-0);\n",
       "}\n",
       "\n",
       "#sk-container-id-1 div.sk-estimator.fitted {\n",
       "  /* fitted */\n",
       "  background-color: var(--sklearn-color-fitted-level-0);\n",
       "}\n",
       "\n",
       "/* on hover */\n",
       "#sk-container-id-1 div.sk-estimator:hover {\n",
       "  /* unfitted */\n",
       "  background-color: var(--sklearn-color-unfitted-level-2);\n",
       "}\n",
       "\n",
       "#sk-container-id-1 div.sk-estimator.fitted:hover {\n",
       "  /* fitted */\n",
       "  background-color: var(--sklearn-color-fitted-level-2);\n",
       "}\n",
       "\n",
       "/* Specification for estimator info (e.g. \"i\" and \"?\") */\n",
       "\n",
       "/* Common style for \"i\" and \"?\" */\n",
       "\n",
       ".sk-estimator-doc-link,\n",
       "a:link.sk-estimator-doc-link,\n",
       "a:visited.sk-estimator-doc-link {\n",
       "  float: right;\n",
       "  font-size: smaller;\n",
       "  line-height: 1em;\n",
       "  font-family: monospace;\n",
       "  background-color: var(--sklearn-color-background);\n",
       "  border-radius: 1em;\n",
       "  height: 1em;\n",
       "  width: 1em;\n",
       "  text-decoration: none !important;\n",
       "  margin-left: 0.5em;\n",
       "  text-align: center;\n",
       "  /* unfitted */\n",
       "  border: var(--sklearn-color-unfitted-level-1) 1pt solid;\n",
       "  color: var(--sklearn-color-unfitted-level-1);\n",
       "}\n",
       "\n",
       ".sk-estimator-doc-link.fitted,\n",
       "a:link.sk-estimator-doc-link.fitted,\n",
       "a:visited.sk-estimator-doc-link.fitted {\n",
       "  /* fitted */\n",
       "  border: var(--sklearn-color-fitted-level-1) 1pt solid;\n",
       "  color: var(--sklearn-color-fitted-level-1);\n",
       "}\n",
       "\n",
       "/* On hover */\n",
       "div.sk-estimator:hover .sk-estimator-doc-link:hover,\n",
       ".sk-estimator-doc-link:hover,\n",
       "div.sk-label-container:hover .sk-estimator-doc-link:hover,\n",
       ".sk-estimator-doc-link:hover {\n",
       "  /* unfitted */\n",
       "  background-color: var(--sklearn-color-unfitted-level-3);\n",
       "  color: var(--sklearn-color-background);\n",
       "  text-decoration: none;\n",
       "}\n",
       "\n",
       "div.sk-estimator.fitted:hover .sk-estimator-doc-link.fitted:hover,\n",
       ".sk-estimator-doc-link.fitted:hover,\n",
       "div.sk-label-container:hover .sk-estimator-doc-link.fitted:hover,\n",
       ".sk-estimator-doc-link.fitted:hover {\n",
       "  /* fitted */\n",
       "  background-color: var(--sklearn-color-fitted-level-3);\n",
       "  color: var(--sklearn-color-background);\n",
       "  text-decoration: none;\n",
       "}\n",
       "\n",
       "/* Span, style for the box shown on hovering the info icon */\n",
       ".sk-estimator-doc-link span {\n",
       "  display: none;\n",
       "  z-index: 9999;\n",
       "  position: relative;\n",
       "  font-weight: normal;\n",
       "  right: .2ex;\n",
       "  padding: .5ex;\n",
       "  margin: .5ex;\n",
       "  width: min-content;\n",
       "  min-width: 20ex;\n",
       "  max-width: 50ex;\n",
       "  color: var(--sklearn-color-text);\n",
       "  box-shadow: 2pt 2pt 4pt #999;\n",
       "  /* unfitted */\n",
       "  background: var(--sklearn-color-unfitted-level-0);\n",
       "  border: .5pt solid var(--sklearn-color-unfitted-level-3);\n",
       "}\n",
       "\n",
       ".sk-estimator-doc-link.fitted span {\n",
       "  /* fitted */\n",
       "  background: var(--sklearn-color-fitted-level-0);\n",
       "  border: var(--sklearn-color-fitted-level-3);\n",
       "}\n",
       "\n",
       ".sk-estimator-doc-link:hover span {\n",
       "  display: block;\n",
       "}\n",
       "\n",
       "/* \"?\"-specific style due to the `<a>` HTML tag */\n",
       "\n",
       "#sk-container-id-1 a.estimator_doc_link {\n",
       "  float: right;\n",
       "  font-size: 1rem;\n",
       "  line-height: 1em;\n",
       "  font-family: monospace;\n",
       "  background-color: var(--sklearn-color-background);\n",
       "  border-radius: 1rem;\n",
       "  height: 1rem;\n",
       "  width: 1rem;\n",
       "  text-decoration: none;\n",
       "  /* unfitted */\n",
       "  color: var(--sklearn-color-unfitted-level-1);\n",
       "  border: var(--sklearn-color-unfitted-level-1) 1pt solid;\n",
       "}\n",
       "\n",
       "#sk-container-id-1 a.estimator_doc_link.fitted {\n",
       "  /* fitted */\n",
       "  border: var(--sklearn-color-fitted-level-1) 1pt solid;\n",
       "  color: var(--sklearn-color-fitted-level-1);\n",
       "}\n",
       "\n",
       "/* On hover */\n",
       "#sk-container-id-1 a.estimator_doc_link:hover {\n",
       "  /* unfitted */\n",
       "  background-color: var(--sklearn-color-unfitted-level-3);\n",
       "  color: var(--sklearn-color-background);\n",
       "  text-decoration: none;\n",
       "}\n",
       "\n",
       "#sk-container-id-1 a.estimator_doc_link.fitted:hover {\n",
       "  /* fitted */\n",
       "  background-color: var(--sklearn-color-fitted-level-3);\n",
       "}\n",
       "</style><div id=\"sk-container-id-1\" class=\"sk-top-container\"><div class=\"sk-text-repr-fallback\"><pre>KMeans(max_iter=50, n_clusters=4)</pre><b>In a Jupyter environment, please rerun this cell to show the HTML representation or trust the notebook. <br />On GitHub, the HTML representation is unable to render, please try loading this page with nbviewer.org.</b></div><div class=\"sk-container\" hidden><div class=\"sk-item\"><div class=\"sk-estimator fitted sk-toggleable\"><input class=\"sk-toggleable__control sk-hidden--visually\" id=\"sk-estimator-id-1\" type=\"checkbox\" checked><label for=\"sk-estimator-id-1\" class=\"sk-toggleable__label fitted sk-toggleable__label-arrow\"><div><div>KMeans</div></div><div><a class=\"sk-estimator-doc-link fitted\" rel=\"noreferrer\" target=\"_blank\" href=\"https://scikit-learn.org/1.6/modules/generated/sklearn.cluster.KMeans.html\">?<span>Documentation for KMeans</span></a><span class=\"sk-estimator-doc-link fitted\">i<span>Fitted</span></span></div></label><div class=\"sk-toggleable__content fitted\"><pre>KMeans(max_iter=50, n_clusters=4)</pre></div> </div></div></div></div>"
      ],
      "text/plain": [
       "KMeans(max_iter=50, n_clusters=4)"
      ]
     },
     "execution_count": 57,
     "metadata": {},
     "output_type": "execute_result"
    }
   ],
   "source": [
    "kmeans = KMeans(n_clusters=4,max_iter=50)\n",
    "kmeans.fit(RFMT)"
   ]
  },
  {
   "cell_type": "code",
   "execution_count": 58,
   "id": "98d3e397-d90e-4a89-8469-1f9adc738de9",
   "metadata": {},
   "outputs": [
    {
     "data": {
      "text/html": [
       "<style type=\"text/css\">\n",
       "#T_25b9c_row0_col0, #T_25b9c_row0_col1, #T_25b9c_row0_col2, #T_25b9c_row0_col3, #T_25b9c_row0_col4, #T_25b9c_row1_col0, #T_25b9c_row1_col1, #T_25b9c_row1_col2, #T_25b9c_row1_col3, #T_25b9c_row1_col4, #T_25b9c_row2_col0, #T_25b9c_row2_col1, #T_25b9c_row2_col2, #T_25b9c_row2_col3, #T_25b9c_row2_col4, #T_25b9c_row3_col0, #T_25b9c_row3_col1, #T_25b9c_row3_col2, #T_25b9c_row3_col3, #T_25b9c_row3_col4, #T_25b9c_row4_col0, #T_25b9c_row4_col1, #T_25b9c_row4_col2, #T_25b9c_row4_col3, #T_25b9c_row4_col4 {\n",
       "  background-color: #cd5c5c;\n",
       "  color: black;\n",
       "  border-color: black;\n",
       "}\n",
       "</style>\n",
       "<table id=\"T_25b9c\">\n",
       "  <thead>\n",
       "    <tr>\n",
       "      <th class=\"blank level0\" >&nbsp;</th>\n",
       "      <th id=\"T_25b9c_level0_col0\" class=\"col_heading level0 col0\" >Recency</th>\n",
       "      <th id=\"T_25b9c_level0_col1\" class=\"col_heading level0 col1\" >Frequency</th>\n",
       "      <th id=\"T_25b9c_level0_col2\" class=\"col_heading level0 col2\" >Monetary</th>\n",
       "      <th id=\"T_25b9c_level0_col3\" class=\"col_heading level0 col3\" >Interpurchase_Time</th>\n",
       "      <th id=\"T_25b9c_level0_col4\" class=\"col_heading level0 col4\" >Clusters</th>\n",
       "    </tr>\n",
       "    <tr>\n",
       "      <th class=\"index_name level0\" >Customer ID</th>\n",
       "      <th class=\"blank col0\" >&nbsp;</th>\n",
       "      <th class=\"blank col1\" >&nbsp;</th>\n",
       "      <th class=\"blank col2\" >&nbsp;</th>\n",
       "      <th class=\"blank col3\" >&nbsp;</th>\n",
       "      <th class=\"blank col4\" >&nbsp;</th>\n",
       "    </tr>\n",
       "  </thead>\n",
       "  <tbody>\n",
       "    <tr>\n",
       "      <th id=\"T_25b9c_level0_row0\" class=\"row_heading level0 row0\" >12346.000000</th>\n",
       "      <td id=\"T_25b9c_row0_col0\" class=\"data row0 col0\" >529</td>\n",
       "      <td id=\"T_25b9c_row0_col1\" class=\"data row0 col1\" >11</td>\n",
       "      <td id=\"T_25b9c_row0_col2\" class=\"data row0 col2\" >372.860000</td>\n",
       "      <td id=\"T_25b9c_row0_col3\" class=\"data row0 col3\" >17</td>\n",
       "      <td id=\"T_25b9c_row0_col4\" class=\"data row0 col4\" >2</td>\n",
       "    </tr>\n",
       "    <tr>\n",
       "      <th id=\"T_25b9c_level0_row1\" class=\"row_heading level0 row1\" >12347.000000</th>\n",
       "      <td id=\"T_25b9c_row1_col0\" class=\"data row1 col0\" >367</td>\n",
       "      <td id=\"T_25b9c_row1_col1\" class=\"data row1 col1\" >2</td>\n",
       "      <td id=\"T_25b9c_row1_col2\" class=\"data row1 col2\" >1323.320000</td>\n",
       "      <td id=\"T_25b9c_row1_col3\" class=\"data row1 col3\" >18</td>\n",
       "      <td id=\"T_25b9c_row1_col4\" class=\"data row1 col4\" >2</td>\n",
       "    </tr>\n",
       "    <tr>\n",
       "      <th id=\"T_25b9c_level0_row2\" class=\"row_heading level0 row2\" >12349.000000</th>\n",
       "      <td id=\"T_25b9c_row2_col0\" class=\"data row2 col0\" >407</td>\n",
       "      <td id=\"T_25b9c_row2_col1\" class=\"data row2 col1\" >3</td>\n",
       "      <td id=\"T_25b9c_row2_col2\" class=\"data row2 col2\" >2295.020000</td>\n",
       "      <td id=\"T_25b9c_row2_col3\" class=\"data row2 col3\" >60</td>\n",
       "      <td id=\"T_25b9c_row2_col4\" class=\"data row2 col4\" >2</td>\n",
       "    </tr>\n",
       "    <tr>\n",
       "      <th id=\"T_25b9c_level0_row3\" class=\"row_heading level0 row3\" >12352.000000</th>\n",
       "      <td id=\"T_25b9c_row3_col0\" class=\"data row3 col0\" >375</td>\n",
       "      <td id=\"T_25b9c_row3_col1\" class=\"data row3 col1\" >2</td>\n",
       "      <td id=\"T_25b9c_row3_col2\" class=\"data row3 col2\" >343.800000</td>\n",
       "      <td id=\"T_25b9c_row3_col3\" class=\"data row3 col3\" >8</td>\n",
       "      <td id=\"T_25b9c_row3_col4\" class=\"data row3 col4\" >2</td>\n",
       "    </tr>\n",
       "    <tr>\n",
       "      <th id=\"T_25b9c_level0_row4\" class=\"row_heading level0 row4\" >12356.000000</th>\n",
       "      <td id=\"T_25b9c_row4_col0\" class=\"data row4 col0\" >380</td>\n",
       "      <td id=\"T_25b9c_row4_col1\" class=\"data row4 col1\" >3</td>\n",
       "      <td id=\"T_25b9c_row4_col2\" class=\"data row4 col2\" >3560.300000</td>\n",
       "      <td id=\"T_25b9c_row4_col3\" class=\"data row4 col3\" >14</td>\n",
       "      <td id=\"T_25b9c_row4_col4\" class=\"data row4 col4\" >2</td>\n",
       "    </tr>\n",
       "  </tbody>\n",
       "</table>\n"
      ],
      "text/plain": [
       "<pandas.io.formats.style.Styler at 0x1363d5d10>"
      ]
     },
     "execution_count": 58,
     "metadata": {},
     "output_type": "execute_result"
    }
   ],
   "source": [
    "RFMT[\"Clusters\"]=kmeans.labels_\n",
    "RFMT.head().style.set_properties(**{\"background-color\": \"#cd5c5c\",\"color\": \"black\", \"border-color\": \"black\"})"
   ]
  },
  {
   "cell_type": "code",
   "execution_count": 59,
   "id": "19997273-7b37-4da8-8189-2e5ea30a10fd",
   "metadata": {},
   "outputs": [
    {
     "data": {
      "text/plain": [
       "array([[3.81000000e+02, 3.08690476e+01, 1.96268884e+04, 1.41785714e+01],\n",
       "       [3.70000000e+02, 8.96666667e+01, 2.46359482e+05, 3.66666667e+00],\n",
       "       [4.27078957e+02, 5.09431940e+00, 1.75544632e+03, 4.61257592e+01],\n",
       "       [3.69142857e+02, 9.61428571e+01, 8.96228336e+04, 5.42857143e+00]])"
      ]
     },
     "execution_count": 59,
     "metadata": {},
     "output_type": "execute_result"
    }
   ],
   "source": [
    "kmeans.cluster_centers_"
   ]
  },
  {
   "cell_type": "code",
   "execution_count": 60,
   "id": "5d67e667-6fd3-4215-89a3-7cd49ed27381",
   "metadata": {},
   "outputs": [
    {
     "data": {
      "text/plain": [
       "<function matplotlib.pyplot.show(close=None, block=None)>"
      ]
     },
     "execution_count": 60,
     "metadata": {},
     "output_type": "execute_result"
    },
    {
     "data": {
      "image/png": "[encoded data removed]",
      "text/plain": [
       "<Figure size 1000x500 with 1 Axes>"
      ]
     },
     "metadata": {},
     "output_type": "display_data"
    }
   ],
   "source": [
    "# grouping the data in accorandance with each cluster seperately\n",
    "one = RFMT[RFMT[\"Clusters\"]==0]\n",
    "two = RFMT[RFMT[\"Clusters\"]==1]\n",
    "three = RFMT[RFMT[\"Clusters\"]==2]\n",
    "four = RFMT[RFMT[\"Clusters\"]==3]\n",
    "\n",
    "#Checking the quality of clustering in the data set\n",
    "plt.figure(figsize=(10,5))\n",
    "ax = plt.axes()\n",
    "ax.set_facecolor(\"#cd5c5c\")\n",
    "plt.scatter(one[\"Recency\"],one[\"Frequency\"],color='green')\n",
    "plt.scatter(two[\"Recency\"],two[\"Frequency\"],color='red')\n",
    "plt.scatter(three[\"Recency\"],three[\"Frequency\"],color='grey')\n",
    "plt.scatter(four[\"Recency\"],four[\"Frequency\"],color='blue')\n",
    "plt.scatter(kmeans.cluster_centers_[:,0],kmeans.cluster_centers_[:,1],color=\"yellow\",marker=\"*\",label=\"centroid\")\n",
    "plt.legend()\n",
    "plt.show \n"
   ]
  },
  {
   "cell_type": "code",
   "execution_count": 19,
   "id": "ea21e2aa-636a-4b0c-bd3e-2bbf1022c43e",
   "metadata": {},
   "outputs": [
    {
     "data": {
      "image/png": "[encoded data removed]",
      "text/plain": [
       "<Figure size 640x480 with 1 Axes>"
      ]
     },
     "metadata": {},
     "output_type": "display_data"
    },
    {
     "data": {
      "image/png": "[encoded data removed]",
      "text/plain": [
       "<Figure size 640x480 with 1 Axes>"
      ]
     },
     "metadata": {},
     "output_type": "display_data"
    }
   ],
   "source": [
    "# Top 10 customers by CLV\n",
    "top_customers = summary[['CLV_90_days']].head(10)\n",
    "top_customers.plot(kind='bar', legend=False, title='Top 10 Customers by CLV')\n",
    "plt.ylabel(\"90-day CLV\")\n",
    "plt.xticks(rotation=45)\n",
    "plt.show()\n",
    "\n",
    "# CLV Distribution\n",
    "sns.histplot(summary['CLV_90_days'], bins=50)\n",
    "plt.title(\"CLV Distribution\")\n",
    "plt.xlabel(\"CLV (90 Days)\")\n",
    "plt.show()\n"
   ]
  },
  {
   "cell_type": "code",
   "execution_count": 20,
   "id": "d3820fd0-93a5-4604-b69f-fe13f1015ca1",
   "metadata": {},
   "outputs": [],
   "source": [
    "summary.to_csv(\"customer_lifetime_value_summary.csv\")"
   ]
  }
 ],
 "metadata": {
  "kernelspec": {
   "display_name": "Python 3 (ipykernel)",
   "language": "python",
   "name": "python3"
  },
  "language_info": {
   "codemirror_mode": {
    "name": "ipython",
    "version": 3
   },
   "file_extension": ".py",
   "mimetype": "text/x-python",
   "name": "python",
   "nbconvert_exporter": "python",
   "pygments_lexer": "ipython3",
   "version": "3.13.3"
  }
 },
 "nbformat": 4,
 "nbformat_minor": 5
}
